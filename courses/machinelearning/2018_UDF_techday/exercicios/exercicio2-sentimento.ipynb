{
 "cells": [
  {
   "cell_type": "markdown",
   "metadata": {},
   "source": [
    "# Exercícios"
   ]
  },
  {
   "cell_type": "markdown",
   "metadata": {},
   "source": [
    "## Exercício 2: Dataset com posts"
   ]
  },
  {
   "cell_type": "markdown",
   "metadata": {},
   "source": [
    "- **Dataset que contém posts: classificação (0 - negativo; 1 - positivo) **\n",
    "- **Objetivo: criar um modelo para avaliar posts**"
   ]
  },
  {
   "cell_type": "markdown",
   "metadata": {},
   "source": [
    "Adaptado de: http://scikit-learn.org/stable/index.html"
   ]
  },
  {
   "cell_type": "code",
   "execution_count": null,
   "metadata": {},
   "outputs": [],
   "source": [
    "# importar bibliotecas uteis para estudo\n",
    "import os\n",
    "\n",
    "import matplotlib.pyplot as plt\n",
    "from sklearn.model_selection import train_test_split\n",
    "from sklearn.feature_extraction.text import CountVectorizer\n",
    "from sklearn.feature_extraction.text import TfidfTransformer\n",
    "from sklearn.ensemble import RandomForestClassifier\n",
    "from sklearn.model_selection import GridSearchCV\n",
    "from sklearn.pipeline import Pipeline\n",
    "from sklearn.metrics import classification_report, accuracy_score\n",
    "\n",
    "DATA_DIR = os.path.join(os.getcwd(), '.')"
   ]
  },
  {
   "cell_type": "code",
   "execution_count": null,
   "metadata": {},
   "outputs": [],
   "source": [
    "# funcao que abre o arquivo e monta a estrutura dos dados\n",
    "def load_data():\n",
    "    items = {'label': [], 'data': []}\n",
    "    with open(os.path.join(DATA_DIR, 'data/posts.txt')) as f:\n",
    "        for line in f:\n",
    "            label, sent = line.split('\\t')\n",
    "            items['label'].append(label)\n",
    "            items['data'].append(sent.strip())\n",
    "    return items"
   ]
  },
  {
   "cell_type": "code",
   "execution_count": null,
   "metadata": {},
   "outputs": [],
   "source": [
    "# funcao para criar um pipeline para encadear diversas operacoes de transformacoes dos dados\n",
    "def build_pipeline():\n",
    "    parameters = {'n_estimators': [10, 30, 50, 70, 90, 110, 130, 150], 'max_features': ['auto', 'sqrt', 'log2', None]}\n",
    "    text_clf = Pipeline([('vect', CountVectorizer()),\n",
    "                         ('tfidf', TfidfTransformer()),\n",
    "                         ('clf', GridSearchCV(RandomForestClassifier(), parameters, cv=2, scoring='accuracy', n_jobs=-1)),\n",
    "                         ])\n",
    "    return text_clf"
   ]
  },
  {
   "cell_type": "code",
   "execution_count": null,
   "metadata": {},
   "outputs": [],
   "source": [
    "items = load_data()\n",
    "print(items)"
   ]
  },
  {
   "cell_type": "code",
   "execution_count": null,
   "metadata": {},
   "outputs": [],
   "source": [
    "# carrega os dados\n",
    "items = load_data()\n",
    "\n",
    "#divide o dataset em conjuntos de treinamento e teste\n",
    "X_train, X_test, y_train, y_test = train_test_split(items['data'], items['label'], test_size=0.5)\n",
    "\n",
    "# criar o pipeline com as transformacoes\n",
    "text_clf = build_pipeline()\n",
    "\n",
    "# aprende o modelo\n",
    "text_clf = text_clf.fit(X_train, y_train)\n",
    "\n",
    "# verificar o modelo com os dados de teste\n",
    "y_pred = text_clf.predict(X_test)\n",
    "\n",
    "# avalia o quao bom eh o modelo\n",
    "print('Accuracy: {}'.format(accuracy_score(y_test, y_pred)))"
   ]
  },
  {
   "cell_type": "code",
   "execution_count": null,
   "metadata": {},
   "outputs": [],
   "source": [
    "print(y_train)\n",
    "print(X_train)"
   ]
  },
  {
   "cell_type": "code",
   "execution_count": null,
   "metadata": {},
   "outputs": [],
   "source": [
    "# um teste simples sobre o modelo\n",
    "y_pred = text_clf.predict([\"Corinthians triste\"])\n",
    "print(y_pred)"
   ]
  },
  {
   "cell_type": "markdown",
   "metadata": {},
   "source": [
    "## Consumindo dados do Twitter"
   ]
  },
  {
   "cell_type": "markdown",
   "metadata": {},
   "source": [
    "É necessário que gere uma conta de desenvolvedor para acessar a API do Twitter. Acesse https://developer.twitter.com ou google para mais informações."
   ]
  },
  {
   "cell_type": "code",
   "execution_count": null,
   "metadata": {},
   "outputs": [],
   "source": [
    "import twitter\n",
    "\n",
    "# conexao com a API. Coloque seus dados e NUNCA compartilhe-os em um repositório público\n",
    "ckey = \"preencha com seus dados\"\n",
    "csecret = \"preencha com seus dados\"\n",
    "akey = \"preencha com seus dados\"\n",
    "asecret = \"preencha com seus dados\"\n",
    "\n",
    "api = twitter.Api(consumer_key=ckey,\n",
    "  consumer_secret=csecret,\n",
    "  access_token_key=akey,\n",
    "  access_token_secret=asecret)\n",
    "\n",
    "print(api.VerifyCredentials())"
   ]
  },
  {
   "cell_type": "code",
   "execution_count": null,
   "metadata": {},
   "outputs": [],
   "source": [
    "# busca por um termo e criacao de um vetor\n",
    "busca = \"Corinthians\" \n",
    "search = api.GetSearch(busca) \n",
    "tweets = []\n",
    "for tweet in search:\n",
    "    tweets.append(tweet.text)"
   ]
  },
  {
   "cell_type": "code",
   "execution_count": null,
   "metadata": {},
   "outputs": [],
   "source": [
    "print(tweets)"
   ]
  },
  {
   "cell_type": "code",
   "execution_count": null,
   "metadata": {},
   "outputs": [],
   "source": [
    "#Executando o modelo para classificar cada post\n",
    "y_pred = text_clf.predict(tweets)\n",
    "print(y_pred)"
   ]
  }
 ],
 "metadata": {
  "kernelspec": {
   "display_name": "Python 3",
   "language": "python",
   "name": "python3"
  },
  "language_info": {
   "codemirror_mode": {
    "name": "ipython",
    "version": 3
   },
   "file_extension": ".py",
   "mimetype": "text/x-python",
   "name": "python",
   "nbconvert_exporter": "python",
   "pygments_lexer": "ipython3",
   "version": "3.6.5"
  }
 },
 "nbformat": 4,
 "nbformat_minor": 2
}
