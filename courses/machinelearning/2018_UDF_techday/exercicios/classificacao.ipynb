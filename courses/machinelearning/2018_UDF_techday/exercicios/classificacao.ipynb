{
 "cells": [
  {
   "cell_type": "markdown",
   "metadata": {},
   "source": [
    "# Exercícios"
   ]
  },
  {
   "cell_type": "markdown",
   "metadata": {},
   "source": [
    "## Exercício 1: Dataset com dados de veículos (moto/carro)"
   ]
  },
  {
   "cell_type": "code",
   "execution_count": 36,
   "metadata": {},
   "outputs": [
    {
     "name": "stdout",
     "output_type": "stream",
     "text": [
      "Precisão do modelo: 60.0\n"
     ]
    }
   ],
   "source": [
    "import numpy as np\n",
    "import pandas as pd\n",
    "from sklearn.cross_validation import train_test_split\n",
    "from sklearn.tree import DecisionTreeClassifier\n",
    "from sklearn.metrics import accuracy_score\n",
    "from sklearn import tree\n",
    "\n",
    "# leitura do dataset\n",
    "df = pd.read_csv(\"data/carro_moto_test.csv\")\n",
    "\n",
    "# slice para pegar as variaveis independentes (rodas,porta,janela,passageiros)\n",
    "X = df.values[:, 0:4]\n",
    "#slice para pegar as variaveis dependentes (classe = carro ou moto)\n",
    "Y = df.values[:,4]\n",
    "\n",
    "# divisao do dataset em treino e teste\n",
    "X_train, X_test, y_train, y_test = train_test_split( X, Y, test_size = 0.3, random_state = 100)\n",
    "\n",
    "# criacao do classificador\n",
    "clf_gini = DecisionTreeClassifier(criterion = \"gini\", random_state = 100, max_depth=3, min_samples_leaf=5)\n",
    "# geracao do modelo com os dados de treinamento\n",
    "clf_gini.fit(X_train, y_train)\n",
    "\n",
    "# predicao para o conjunto de testes\n",
    "y_pred = clf_gini.predict(X_test)\n",
    "# calculo de precisao\n",
    "print(\"Precisão do modelo:\", accuracy_score(y_test,y_pred)*100)\n",
    "\n",
    "# predicao para novos dados\n",
    "y_pred = clf_gini.predict([[2, 0, 0, 2]])\n",
    "\n"
   ]
  },
  {
   "cell_type": "code",
   "execution_count": null,
   "metadata": {},
   "outputs": [],
   "source": []
  },
  {
   "cell_type": "code",
   "execution_count": null,
   "metadata": {},
   "outputs": [],
   "source": []
  }
 ],
 "metadata": {
  "kernelspec": {
   "display_name": "Python 3",
   "language": "python",
   "name": "python3"
  },
  "language_info": {
   "codemirror_mode": {
    "name": "ipython",
    "version": 3
   },
   "file_extension": ".py",
   "mimetype": "text/x-python",
   "name": "python",
   "nbconvert_exporter": "python",
   "pygments_lexer": "ipython3",
   "version": "3.6.5"
  }
 },
 "nbformat": 4,
 "nbformat_minor": 2
}
