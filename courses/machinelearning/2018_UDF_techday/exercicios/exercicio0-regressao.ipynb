{
 "cells": [
  {
   "cell_type": "markdown",
   "metadata": {},
   "source": [
    "\n",
    "# Regressão Linear\n",
    "\n",
    "Obs: adaptado de http://scikit-learn.org/stable/auto_examples/linear_model/plot_ols.html\n",
    "\n",
    "\n"
   ]
  },
  {
   "cell_type": "code",
   "execution_count": null,
   "metadata": {},
   "outputs": [],
   "source": [
    "%matplotlib inline"
   ]
  },
  {
   "cell_type": "code",
   "execution_count": 2,
   "metadata": {},
   "outputs": [
    {
     "name": "stdout",
     "output_type": "stream",
     "text": [
      "Treino: [[1], [2], [3], [4]]\n",
      "Teste: [[5], [6], [8], [9]]\n",
      "Coefficients: \n",
      " [2.1]\n",
      "Mean squared error: 1.17\n",
      "Variance score: 0.87\n"
     ]
    },
    {
     "data": {
      "image/png": "[encoded data removed]",
      "text/plain": [
       "<Figure size 432x288 with 1 Axes>"
      ]
     },
     "metadata": {},
     "output_type": "display_data"
    }
   ],
   "source": [
    "import matplotlib.pyplot as plt\n",
    "import numpy as np\n",
    "from sklearn import datasets, linear_model\n",
    "from sklearn.metrics import mean_squared_error, r2_score\n",
    "\n",
    "# Valores de X e Y\n",
    "x = [[1],[2],[3],[4],[5],[6],[8],[9]]\n",
    "y = [2,4,7,8,10,12,15,18]\n",
    "\n",
    "# dividir os dados em grupos de treinamento/teste\n",
    "x_treino = x[:-4]\n",
    "x_teste = x[-4:]\n",
    "\n",
    "print(\"Treino:\",x_treino)\n",
    "print(\"Teste:\",x_teste)\n",
    "\n",
    "# dividir os conjuntos de treino e teste\n",
    "y_treino = y[:-4]\n",
    "y_teste = y[-4:]\n",
    "\n",
    "# gerar o objeto de regressao\n",
    "regr = linear_model.LinearRegression()\n",
    "\n",
    "# Treinar o modelo\n",
    "regr.fit(x_treino, y_treino)\n",
    "\n",
    "# usar os dados de teste para fazer predição usando o modelo aprendido\n",
    "y_pred = regr.predict(x_teste)\n",
    "\n",
    "# Resultados\n",
    "print('Coefficients: \\n', regr.coef_)\n",
    "# Erro médio\n",
    "print(\"Mean squared error: %.2f\"\n",
    "      % mean_squared_error(y_teste, y_pred))\n",
    "# Explained variance score: 1 is perfect prediction\n",
    "print('Variance score: %.2f' % r2_score(y_teste, y_pred))\n",
    "\n",
    "# colocar os pontos\n",
    "plt.scatter(x_teste, y_teste,  color='black')\n",
    "plt.plot(x_teste, y_pred, color='blue', linewidth=3)\n",
    "\n",
    "plt.xticks(())\n",
    "plt.yticks(())\n",
    "\n",
    "plt.show()"
   ]
  }
 ],
 "metadata": {
  "kernelspec": {
   "display_name": "Python 3",
   "language": "python",
   "name": "python3"
  },
  "language_info": {
   "codemirror_mode": {
    "name": "ipython",
    "version": 3
   },
   "file_extension": ".py",
   "mimetype": "text/x-python",
   "name": "python",
   "nbconvert_exporter": "python",
   "pygments_lexer": "ipython3",
   "version": "3.6.5"
  }
 },
 "nbformat": 4,
 "nbformat_minor": 1
}
